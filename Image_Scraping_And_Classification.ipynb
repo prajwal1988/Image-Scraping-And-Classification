{
 "cells": [
  {
   "cell_type": "markdown",
   "id": "51fac51f",
   "metadata": {},
   "source": [
    "### *Image Scraping And Classification*"
   ]
  },
  {
   "cell_type": "code",
   "execution_count": 1,
   "id": "80aef274",
   "metadata": {},
   "outputs": [],
   "source": [
    "import pandas as pd\n",
    "import selenium\n",
    "from selenium import webdriver\n",
    "import time\n",
    "from selenium.common.exceptions import StaleElementReferenceException, NoSuchElementException\n",
    "import urllib"
   ]
  },
  {
   "cell_type": "code",
   "execution_count": 4,
   "id": "bd49f1c2",
   "metadata": {},
   "outputs": [],
   "source": [
    "# opening webdriver\n",
    "driver=webdriver.Chrome(r\"//Users/prajwalkunder/Downloads/chromedriver\")"
   ]
  },
  {
   "cell_type": "code",
   "execution_count": 5,
   "id": "1ccd2eb7",
   "metadata": {},
   "outputs": [],
   "source": [
    "#getting the url\n",
    "url = \"https://www.amazon.in/s?rh=n%3A1968076031&fs=true&ref=lp_1968076031_sar\"\n",
    "driver.get(url)\n",
    "time.sleep(2)"
   ]
  },
  {
   "cell_type": "code",
   "execution_count": 10,
   "id": "b9759534",
   "metadata": {},
   "outputs": [
    {
     "data": {
      "text/plain": [
       "'/Users/prajwalkunder'"
      ]
     },
     "execution_count": 10,
     "metadata": {},
     "output_type": "execute_result"
    }
   ],
   "source": [
    "pwd"
   ]
  },
  {
   "cell_type": "code",
   "execution_count": 11,
   "id": "86b52a48",
   "metadata": {},
   "outputs": [],
   "source": [
    "k=0\n",
    "for i in range(1,16):\n",
    "    time.sleep(10)    \n",
    "    \n",
    "    img = driver.find_elements_by_xpath('//div[@class=\"a-section aok-relative s-image-tall-aspect\"]/img')\n",
    "    \n",
    "\n",
    "\n",
    "    for i in img:\n",
    "        k=k+1\n",
    "\n",
    "\n",
    "\n",
    "\n",
    "        try:\n",
    "            srce = i.get_attribute('src')\n",
    "            o=\"r\\\\Users\\\\prajwalkunder\\\\Image-Scraping-and-Classification-Project--3-\\\\Image Scraping and Classification Project\\\\jeans\\\\jeans_%s.jpg\"%k\n",
    "            urllib.request.urlretrieve(srce,o)\n",
    "            print(j)\n",
    "        except:\n",
    "            continue\n",
    "            \n",
    "    time.sleep(5)\n",
    "            \n",
    "    try:\n",
    "        nxt_button=driver.find_element_by_xpath(\"//a[@class='s-pagination-item s-pagination-next s-pagination-button s-pagination-separator']\")#scraping the list of buttons from the page\n",
    "        nxt_button.click()\n",
    "    except:\n",
    "        nxt_button=driver.find_element_by_xpath(\"//li[@class='a-last']/a\")#scraping the list of buttons from the page\n",
    "        nxt_button.click()\n",
    "            "
   ]
  },
  {
   "cell_type": "code",
   "execution_count": 7,
   "id": "ffb4a81b",
   "metadata": {},
   "outputs": [
    {
     "data": {
      "text/plain": [
       "[<selenium.webdriver.remote.webelement.WebElement (session=\"d7cdf6bd1c19c43350dc65ea224b8159\", element=\"9f2e9215-6070-42d5-9d00-c1eef12f8e51\")>,\n",
       " <selenium.webdriver.remote.webelement.WebElement (session=\"d7cdf6bd1c19c43350dc65ea224b8159\", element=\"4cac53f4-3e05-48d6-a526-3ba9e82244c4\")>,\n",
       " <selenium.webdriver.remote.webelement.WebElement (session=\"d7cdf6bd1c19c43350dc65ea224b8159\", element=\"c1a9daee-eb20-48c1-8be9-b78c32e09db5\")>,\n",
       " <selenium.webdriver.remote.webelement.WebElement (session=\"d7cdf6bd1c19c43350dc65ea224b8159\", element=\"94442bb7-cec1-4493-8a54-0d070b060696\")>,\n",
       " <selenium.webdriver.remote.webelement.WebElement (session=\"d7cdf6bd1c19c43350dc65ea224b8159\", element=\"c3c158a5-e709-490a-b4b4-19b4f5e9477a\")>,\n",
       " <selenium.webdriver.remote.webelement.WebElement (session=\"d7cdf6bd1c19c43350dc65ea224b8159\", element=\"b6d9f3c4-248b-4a4f-a83e-b9f97f46f5b6\")>,\n",
       " <selenium.webdriver.remote.webelement.WebElement (session=\"d7cdf6bd1c19c43350dc65ea224b8159\", element=\"e7491777-15b1-4d71-b3a5-137e07e937a7\")>,\n",
       " <selenium.webdriver.remote.webelement.WebElement (session=\"d7cdf6bd1c19c43350dc65ea224b8159\", element=\"e533bfc9-0157-4d46-b022-9ffba48b7eda\")>,\n",
       " <selenium.webdriver.remote.webelement.WebElement (session=\"d7cdf6bd1c19c43350dc65ea224b8159\", element=\"bede64c0-bdc3-4167-b157-745d3ea68294\")>,\n",
       " <selenium.webdriver.remote.webelement.WebElement (session=\"d7cdf6bd1c19c43350dc65ea224b8159\", element=\"da49f79c-a421-40ec-9064-84e9c4d7e118\")>,\n",
       " <selenium.webdriver.remote.webelement.WebElement (session=\"d7cdf6bd1c19c43350dc65ea224b8159\", element=\"8cd3c5d6-2539-4646-bcfa-d2f5e7243885\")>,\n",
       " <selenium.webdriver.remote.webelement.WebElement (session=\"d7cdf6bd1c19c43350dc65ea224b8159\", element=\"c0a1667a-ebb9-4b17-be42-e86195a7824d\")>,\n",
       " <selenium.webdriver.remote.webelement.WebElement (session=\"d7cdf6bd1c19c43350dc65ea224b8159\", element=\"392e9e83-b798-4e9f-bdd6-7baf1dd6cb59\")>,\n",
       " <selenium.webdriver.remote.webelement.WebElement (session=\"d7cdf6bd1c19c43350dc65ea224b8159\", element=\"fa5b8017-85ed-4aa8-b7b3-c9e526b6b79a\")>,\n",
       " <selenium.webdriver.remote.webelement.WebElement (session=\"d7cdf6bd1c19c43350dc65ea224b8159\", element=\"2995ae22-8252-4c70-9b76-fa733d0f5f15\")>,\n",
       " <selenium.webdriver.remote.webelement.WebElement (session=\"d7cdf6bd1c19c43350dc65ea224b8159\", element=\"35837da2-70ef-41e4-9a06-504d702f3e83\")>,\n",
       " <selenium.webdriver.remote.webelement.WebElement (session=\"d7cdf6bd1c19c43350dc65ea224b8159\", element=\"e4b33821-119b-42fc-b125-0d2d9d775513\")>,\n",
       " <selenium.webdriver.remote.webelement.WebElement (session=\"d7cdf6bd1c19c43350dc65ea224b8159\", element=\"67dc57a5-ddde-426a-9c1e-547663793c34\")>,\n",
       " <selenium.webdriver.remote.webelement.WebElement (session=\"d7cdf6bd1c19c43350dc65ea224b8159\", element=\"8729cc39-1246-400a-84c8-9931dfcc315d\")>,\n",
       " <selenium.webdriver.remote.webelement.WebElement (session=\"d7cdf6bd1c19c43350dc65ea224b8159\", element=\"0f575763-a71c-4935-b448-38f22e7bf2c7\")>,\n",
       " <selenium.webdriver.remote.webelement.WebElement (session=\"d7cdf6bd1c19c43350dc65ea224b8159\", element=\"90e87ab6-8759-4bb5-819b-32881135c83c\")>,\n",
       " <selenium.webdriver.remote.webelement.WebElement (session=\"d7cdf6bd1c19c43350dc65ea224b8159\", element=\"06cac16a-361a-4297-a5ca-c663706a6cf9\")>,\n",
       " <selenium.webdriver.remote.webelement.WebElement (session=\"d7cdf6bd1c19c43350dc65ea224b8159\", element=\"60bd03c9-e09b-40af-940b-ae04b6698fc2\")>,\n",
       " <selenium.webdriver.remote.webelement.WebElement (session=\"d7cdf6bd1c19c43350dc65ea224b8159\", element=\"bdbd1c57-aeeb-402b-939c-52a465da7733\")>,\n",
       " <selenium.webdriver.remote.webelement.WebElement (session=\"d7cdf6bd1c19c43350dc65ea224b8159\", element=\"d5d76921-f52e-413a-bf08-9238fc629986\")>,\n",
       " <selenium.webdriver.remote.webelement.WebElement (session=\"d7cdf6bd1c19c43350dc65ea224b8159\", element=\"96bb7ab6-f9d3-4ac0-b20e-8a7cec1ebd28\")>,\n",
       " <selenium.webdriver.remote.webelement.WebElement (session=\"d7cdf6bd1c19c43350dc65ea224b8159\", element=\"0294c186-ebe2-4420-994c-91b7fb4159db\")>,\n",
       " <selenium.webdriver.remote.webelement.WebElement (session=\"d7cdf6bd1c19c43350dc65ea224b8159\", element=\"5266bd9f-bd0c-4d56-9dfa-d80507cabd2c\")>,\n",
       " <selenium.webdriver.remote.webelement.WebElement (session=\"d7cdf6bd1c19c43350dc65ea224b8159\", element=\"cd7d9a54-9ab2-4baa-b30b-f3b115eb0455\")>,\n",
       " <selenium.webdriver.remote.webelement.WebElement (session=\"d7cdf6bd1c19c43350dc65ea224b8159\", element=\"0a798c63-afc2-4620-8e85-f4b6fa9b768a\")>,\n",
       " <selenium.webdriver.remote.webelement.WebElement (session=\"d7cdf6bd1c19c43350dc65ea224b8159\", element=\"1f45c866-8fa5-48cf-a20f-33006390b250\")>,\n",
       " <selenium.webdriver.remote.webelement.WebElement (session=\"d7cdf6bd1c19c43350dc65ea224b8159\", element=\"ed91bbfd-f578-4f03-9616-db6a31cc0049\")>,\n",
       " <selenium.webdriver.remote.webelement.WebElement (session=\"d7cdf6bd1c19c43350dc65ea224b8159\", element=\"b89a825f-58d2-4245-b63b-b675d65f335b\")>,\n",
       " <selenium.webdriver.remote.webelement.WebElement (session=\"d7cdf6bd1c19c43350dc65ea224b8159\", element=\"674b68c0-87e3-4d2b-bee4-0b7009445de0\")>,\n",
       " <selenium.webdriver.remote.webelement.WebElement (session=\"d7cdf6bd1c19c43350dc65ea224b8159\", element=\"c6c1fbd2-e61f-430f-b904-e42f7f028ff3\")>,\n",
       " <selenium.webdriver.remote.webelement.WebElement (session=\"d7cdf6bd1c19c43350dc65ea224b8159\", element=\"12125053-1c70-401d-8e3b-920edbe55aae\")>,\n",
       " <selenium.webdriver.remote.webelement.WebElement (session=\"d7cdf6bd1c19c43350dc65ea224b8159\", element=\"6f269375-5d81-48ce-9c5a-79faf901e5ca\")>,\n",
       " <selenium.webdriver.remote.webelement.WebElement (session=\"d7cdf6bd1c19c43350dc65ea224b8159\", element=\"b50e65c4-d21d-44dd-8359-4b17f09a079d\")>,\n",
       " <selenium.webdriver.remote.webelement.WebElement (session=\"d7cdf6bd1c19c43350dc65ea224b8159\", element=\"db75b45a-8b98-4770-90e4-feff68621d7d\")>,\n",
       " <selenium.webdriver.remote.webelement.WebElement (session=\"d7cdf6bd1c19c43350dc65ea224b8159\", element=\"06854645-ddef-47d2-9afb-9bd8f6b522eb\")>,\n",
       " <selenium.webdriver.remote.webelement.WebElement (session=\"d7cdf6bd1c19c43350dc65ea224b8159\", element=\"8c091067-9a83-4a40-9c1e-4baae0b50dfd\")>,\n",
       " <selenium.webdriver.remote.webelement.WebElement (session=\"d7cdf6bd1c19c43350dc65ea224b8159\", element=\"b6abd174-ef29-4178-abb7-ba74ee569dcc\")>,\n",
       " <selenium.webdriver.remote.webelement.WebElement (session=\"d7cdf6bd1c19c43350dc65ea224b8159\", element=\"a43064bd-c1df-4ac9-9e39-f36830da29e3\")>,\n",
       " <selenium.webdriver.remote.webelement.WebElement (session=\"d7cdf6bd1c19c43350dc65ea224b8159\", element=\"e263640e-af61-44c6-b1ab-f35149f38a46\")>,\n",
       " <selenium.webdriver.remote.webelement.WebElement (session=\"d7cdf6bd1c19c43350dc65ea224b8159\", element=\"f5556b00-8eec-4f72-b248-2dd4aeeba9a7\")>,\n",
       " <selenium.webdriver.remote.webelement.WebElement (session=\"d7cdf6bd1c19c43350dc65ea224b8159\", element=\"7bb80331-59a5-4fac-a52f-61d655b46356\")>,\n",
       " <selenium.webdriver.remote.webelement.WebElement (session=\"d7cdf6bd1c19c43350dc65ea224b8159\", element=\"7a626676-b4a7-4faa-a3c1-cc9358aec012\")>,\n",
       " <selenium.webdriver.remote.webelement.WebElement (session=\"d7cdf6bd1c19c43350dc65ea224b8159\", element=\"f2dfba50-3758-45a1-beb9-5f7066da0c27\")>,\n",
       " <selenium.webdriver.remote.webelement.WebElement (session=\"d7cdf6bd1c19c43350dc65ea224b8159\", element=\"80cac08f-e83a-41ed-b8e6-eecc11f8f907\")>,\n",
       " <selenium.webdriver.remote.webelement.WebElement (session=\"d7cdf6bd1c19c43350dc65ea224b8159\", element=\"0cf3bdd3-680d-49b4-82d7-e2580e957e33\")>,\n",
       " <selenium.webdriver.remote.webelement.WebElement (session=\"d7cdf6bd1c19c43350dc65ea224b8159\", element=\"7d9c311a-7686-4090-a81a-cf4c947f07a5\")>,\n",
       " <selenium.webdriver.remote.webelement.WebElement (session=\"d7cdf6bd1c19c43350dc65ea224b8159\", element=\"db1b5388-0685-4732-9cfe-d271c5732397\")>,\n",
       " <selenium.webdriver.remote.webelement.WebElement (session=\"d7cdf6bd1c19c43350dc65ea224b8159\", element=\"981599e0-11d1-48b8-81fd-0179bb2cedb2\")>,\n",
       " <selenium.webdriver.remote.webelement.WebElement (session=\"d7cdf6bd1c19c43350dc65ea224b8159\", element=\"af8bcf98-b361-45fa-8f00-e574a363d8a9\")>,\n",
       " <selenium.webdriver.remote.webelement.WebElement (session=\"d7cdf6bd1c19c43350dc65ea224b8159\", element=\"f090e7f4-5fb1-43f5-8a4a-01ec6490873f\")>,\n",
       " <selenium.webdriver.remote.webelement.WebElement (session=\"d7cdf6bd1c19c43350dc65ea224b8159\", element=\"b50cab51-dc60-4a32-875b-95a66104258e\")>,\n",
       " <selenium.webdriver.remote.webelement.WebElement (session=\"d7cdf6bd1c19c43350dc65ea224b8159\", element=\"5dbb6831-b1d8-429b-adbb-3be5b753b951\")>,\n",
       " <selenium.webdriver.remote.webelement.WebElement (session=\"d7cdf6bd1c19c43350dc65ea224b8159\", element=\"85ca9ee5-5c73-4617-bc22-040b8b69fbb6\")>,\n",
       " <selenium.webdriver.remote.webelement.WebElement (session=\"d7cdf6bd1c19c43350dc65ea224b8159\", element=\"82007bd7-e94d-40a5-a580-4df9dca41626\")>,\n",
       " <selenium.webdriver.remote.webelement.WebElement (session=\"d7cdf6bd1c19c43350dc65ea224b8159\", element=\"b612462a-83f7-48f9-be4c-45d640cb241b\")>]"
      ]
     },
     "execution_count": 7,
     "metadata": {},
     "output_type": "execute_result"
    }
   ],
   "source": [
    "img"
   ]
  },
  {
   "cell_type": "code",
   "execution_count": 9,
   "id": "0101a39e",
   "metadata": {},
   "outputs": [
    {
     "data": {
      "text/plain": [
       "'https://m.media-amazon.com/images/I/81tbT9SVYcL._AC_UL320_.jpg'"
      ]
     },
     "execution_count": 9,
     "metadata": {},
     "output_type": "execute_result"
    }
   ],
   "source": [
    "srce"
   ]
  },
  {
   "cell_type": "code",
   "execution_count": null,
   "id": "1c2dc398",
   "metadata": {},
   "outputs": [],
   "source": []
  }
 ],
 "metadata": {
  "kernelspec": {
   "display_name": "Python 3",
   "language": "python",
   "name": "python3"
  },
  "language_info": {
   "codemirror_mode": {
    "name": "ipython",
    "version": 3
   },
   "file_extension": ".py",
   "mimetype": "text/x-python",
   "name": "python",
   "nbconvert_exporter": "python",
   "pygments_lexer": "ipython3",
   "version": "3.8.8"
  }
 },
 "nbformat": 4,
 "nbformat_minor": 5
}
